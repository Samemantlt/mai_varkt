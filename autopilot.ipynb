{
 "cells": [
  {
   "cell_type": "code",
   "execution_count": null,
   "metadata": {},
   "outputs": [],
   "source": [
    "# pip install krpc"
   ]
  },
  {
   "cell_type": "code",
   "execution_count": null,
   "metadata": {},
   "outputs": [],
   "source": [
    "import krpc\n",
    "from krpc.services.spacecenter import SASMode\n",
    "import time"
   ]
  },
  {
   "cell_type": "code",
   "execution_count": null,
   "metadata": {},
   "outputs": [],
   "source": [
    "# Подключаемся к KSP\n",
    "conn = krpc.connect(name='Launch into orbit')"
   ]
  },
  {
   "cell_type": "markdown",
   "metadata": {},
   "source": [
    "!!!ЗАПУСКАТЬ ТОЛЬКО НА ЗАПУСКАТЕЛЬНОЙ ПЛОЩАДКЕ"
   ]
  },
  {
   "cell_type": "code",
   "execution_count": null,
   "metadata": {},
   "outputs": [],
   "source": [
    "# Получаем объект судна\n",
    "vessel = conn.space_center.active_vessel\n",
    "auto_pilot = vessel.auto_pilot"
   ]
  },
  {
   "cell_type": "code",
   "execution_count": null,
   "metadata": {},
   "outputs": [],
   "source": [
    "# Получаем потоки высоты и апоапсиса\n",
    "altitude = conn.add_stream(getattr, vessel.flight(), 'mean_altitude')\n",
    "apoapsis = conn.add_stream(getattr, vessel.orbit, 'apoapsis_altitude')"
   ]
  },
  {
   "cell_type": "markdown",
   "metadata": {},
   "source": [
    "ПОДГОТОВКА К ПОЛЁТУ"
   ]
  },
  {
   "cell_type": "code",
   "execution_count": null,
   "metadata": {},
   "outputs": [],
   "source": [
    "# Включаем SAS, RCS. Выставляем тягу на 50%\n",
    "vessel.control.sas = True\n",
    "vessel.control.rcs = True\n",
    "vessel.control.throttle = 0.5"
   ]
  },
  {
   "cell_type": "markdown",
   "metadata": {},
   "source": [
    "1 СТУПЕНЬ"
   ]
  },
  {
   "cell_type": "code",
   "execution_count": null,
   "metadata": {},
   "outputs": [],
   "source": [
    "# Запускаем 1 ступень\n",
    "vessel.control.activate_next_stage()\n",
    "\n",
    "# Включаем радиальный режим SAS\n",
    "vessel.control.sas_mode = SASMode.radial\n",
    "\n",
    "# Уменьшаем/увеличиваем тягу в зависимости от перегрузки\n",
    "g_force_stream = conn.add_stream(getattr, vessel.flight(), 'g_force')\n",
    "\n",
    "stage_3_resources = vessel.resources_in_decouple_stage(stage=3, cumulative=False)\n",
    "\n",
    "liquid_fuel = conn.add_stream(stage_3_resources.amount, 'LiquidFuel')\n",
    "while liquid_fuel() > 0.1:\n",
    "    if g_force_stream() > 2:\n",
    "        vessel.control.throttle -= 0.1\n",
    "\n",
    "    if g_force_stream() < 1.2:\n",
    "        vessel.control.throttle += 0.1\n",
    "    \n",
    "    time.sleep(1)\n",
    "\n",
    "    continue"
   ]
  },
  {
   "cell_type": "markdown",
   "metadata": {},
   "source": [
    "2, 3 СТУПЕНИ: 2 Твердотопливных двигателя"
   ]
  },
  {
   "cell_type": "code",
   "execution_count": null,
   "metadata": {},
   "outputs": [],
   "source": [
    "# Функция чтобы дождаться отработки ступени с твёрдым топливом\n",
    "def wait_till_solid_fuel_end_stage(stage):\n",
    "    stage_0_resources = vessel.resources_in_decouple_stage(stage=stage, cumulative=False)\n",
    "    srb_fuel = conn.add_stream(stage_0_resources.amount, 'SolidFuel')\n",
    "\n",
    "    while srb_fuel() > 0.1:\n",
    "        continue"
   ]
  },
  {
   "cell_type": "code",
   "execution_count": null,
   "metadata": {},
   "outputs": [],
   "source": [
    "# Устанавливаем значение тяги в 1 и режим SAS в stability_assist\n",
    "vessel.control.throttle = 1\n",
    "vessel.control.sas_mode = SASMode.stability_assist"
   ]
  },
  {
   "cell_type": "code",
   "execution_count": null,
   "metadata": {},
   "outputs": [],
   "source": [
    "# Запускаем и дожидаемся окончания 2 ступени\n",
    "vessel.control.activate_next_stage()\n",
    "wait_till_solid_fuel_end_stage(2)"
   ]
  },
  {
   "cell_type": "code",
   "execution_count": null,
   "metadata": {},
   "outputs": [],
   "source": [
    "# Поворачиваемся на 45 градусов\n",
    "auto_pilot.engage()\n",
    "\n",
    "auto_pilot.target_pitch_and_heading(45, 90)\n",
    "auto_pilot.wait()\n",
    "\n",
    "time.sleep(10)\n",
    "auto_pilot.disengage()\n",
    "\n",
    "vessel.control.sas = True\n",
    "vessel.control.sas_mode = vessel.control.sas_mode.stability_assist"
   ]
  },
  {
   "cell_type": "code",
   "execution_count": null,
   "metadata": {},
   "outputs": [],
   "source": [
    "# Запускаем и дожидаемся окончания 3 ступени\n",
    "vessel.control.activate_next_stage()\n",
    "wait_till_solid_fuel_end_stage(1)"
   ]
  },
  {
   "cell_type": "code",
   "execution_count": null,
   "metadata": {},
   "outputs": [],
   "source": [
    "# Отсоединяем ступень\n",
    "vessel.control.activate_next_stage()"
   ]
  },
  {
   "cell_type": "markdown",
   "metadata": {},
   "source": [
    "4 СТУПЕНЬ"
   ]
  },
  {
   "cell_type": "code",
   "execution_count": null,
   "metadata": {},
   "outputs": [],
   "source": [
    "# Ожидаем пока ракета подлетит к апоапсису\n",
    "start_time = time.time()\n",
    "\n",
    "while True:\n",
    "    print(f'check {int(time.time() - start_time)}')\n",
    "    if abs(apoapsis() - altitude()) < 3_000:\n",
    "        break"
   ]
  },
  {
   "cell_type": "code",
   "execution_count": null,
   "metadata": {},
   "outputs": [],
   "source": [
    "# Переводим ракету в горизонтальное положение\n",
    "\n",
    "auto_pilot.engage()\n",
    "auto_pilot.target_pitch_and_heading(0, 90)\n",
    "time.sleep(10)\n",
    "auto_pilot.disengage()\n",
    "\n",
    "vessel.control.sas = True\n",
    "vessel.control.sas_mode = vessel.control.sas_mode.stability_assist"
   ]
  },
  {
   "cell_type": "code",
   "execution_count": null,
   "metadata": {},
   "outputs": [],
   "source": [
    "# Запускаем и дожидаемся окончания 4 ступени\n",
    "vessel.control.activate_next_stage()\n",
    "wait_till_solid_fuel_end_stage(-1)"
   ]
  },
  {
   "cell_type": "code",
   "execution_count": null,
   "metadata": {},
   "outputs": [],
   "source": [
    "print('Запуск завершён')"
   ]
  }
 ],
 "metadata": {
  "kernelspec": {
   "display_name": "venv",
   "language": "python",
   "name": "python3"
  },
  "language_info": {
   "codemirror_mode": {
    "name": "ipython",
    "version": 3
   },
   "file_extension": ".py",
   "mimetype": "text/x-python",
   "name": "python",
   "nbconvert_exporter": "python",
   "pygments_lexer": "ipython3",
   "version": "3.9.5"
  }
 },
 "nbformat": 4,
 "nbformat_minor": 2
}

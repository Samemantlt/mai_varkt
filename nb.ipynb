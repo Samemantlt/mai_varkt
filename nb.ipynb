{
 "cells": [
  {
   "cell_type": "code",
   "execution_count": 1,
   "metadata": {},
   "outputs": [],
   "source": [
    "# pip install krpc"
   ]
  },
  {
   "cell_type": "code",
   "execution_count": 2,
   "metadata": {},
   "outputs": [],
   "source": [
    "import krpc\n",
    "from krpc.services.spacecenter import SASMode\n",
    "import time"
   ]
  },
  {
   "cell_type": "code",
   "execution_count": 3,
   "metadata": {},
   "outputs": [],
   "source": [
    "# Подключаемся к KSP\n",
    "conn = krpc.connect(name='Launch into orbit')"
   ]
  },
  {
   "cell_type": "markdown",
   "metadata": {},
   "source": [
    "!!!ЗАПУСКАТЬ ТОЛЬКО НА ЗАПУСКАТЕЛЬНОЙ ПЛОЩАДКЕ"
   ]
  },
  {
   "cell_type": "code",
   "execution_count": 4,
   "metadata": {},
   "outputs": [],
   "source": [
    "# Получаем объект судна\n",
    "vessel = conn.space_center.active_vessel\n",
    "auto_pilot = vessel.auto_pilot"
   ]
  },
  {
   "cell_type": "code",
   "execution_count": 5,
   "metadata": {},
   "outputs": [],
   "source": [
    "# Получаем потоки высоты и апоапсиса\n",
    "altitude = conn.add_stream(getattr, vessel.flight(), 'mean_altitude')\n",
    "apoapsis = conn.add_stream(getattr, vessel.orbit, 'apoapsis_altitude')"
   ]
  },
  {
   "cell_type": "markdown",
   "metadata": {},
   "source": [
    "ПОДГОТОВКА К ПОЛЁТУ"
   ]
  },
  {
   "cell_type": "code",
   "execution_count": 6,
   "metadata": {},
   "outputs": [],
   "source": [
    "# Включаем SAS, RCS. Выставляем тягу на 50%\n",
    "vessel.control.sas = True\n",
    "vessel.control.rcs = True\n",
    "vessel.control.throttle = 0.5"
   ]
  },
  {
   "cell_type": "markdown",
   "metadata": {},
   "source": [
    "1 СТУПЕНЬ"
   ]
  },
  {
   "cell_type": "code",
   "execution_count": 7,
   "metadata": {},
   "outputs": [],
   "source": [
    "# Запускаем 1 ступень\n",
    "vessel.control.activate_next_stage()\n",
    "\n",
    "# Включаем радиальный режим SAS\n",
    "vessel.control.sas_mode = SASMode.radial\n",
    "\n",
    "# Уменьшаем/увеличиваем тягу в зависимости от перегрузки\n",
    "g_force_stream = conn.add_stream(getattr, vessel.flight(), 'g_force')\n",
    "\n",
    "stage_3_resources = vessel.resources_in_decouple_stage(stage=3, cumulative=False)\n",
    "\n",
    "liquid_fuel = conn.add_stream(stage_3_resources.amount, 'LiquidFuel')\n",
    "while liquid_fuel() > 0.1:\n",
    "    if g_force_stream() > 2:\n",
    "        vessel.control.throttle -= 0.1\n",
    "\n",
    "    if g_force_stream() < 1.2:\n",
    "        vessel.control.throttle += 0.1\n",
    "    \n",
    "    time.sleep(1)\n",
    "\n",
    "    continue"
   ]
  },
  {
   "cell_type": "markdown",
   "metadata": {},
   "source": [
    "2, 3 СТУПЕНИ: 2 Твердотопливных двигателя"
   ]
  },
  {
   "cell_type": "code",
   "execution_count": 8,
   "metadata": {},
   "outputs": [],
   "source": [
    "# Функция чтобы дождаться отработки ступени с твёрдым топливом\n",
    "def wait_till_solid_fuel_end_stage(stage):\n",
    "    stage_0_resources = vessel.resources_in_decouple_stage(stage=stage, cumulative=False)\n",
    "    srb_fuel = conn.add_stream(stage_0_resources.amount, 'SolidFuel')\n",
    "\n",
    "    while srb_fuel() > 0.1:\n",
    "        continue"
   ]
  },
  {
   "cell_type": "code",
   "execution_count": 9,
   "metadata": {},
   "outputs": [],
   "source": [
    "# Устанавливаем значение тяги в 1 и режим SAS в stability_assist\n",
    "vessel.control.throttle = 1\n",
    "vessel.control.sas_mode = SASMode.stability_assist"
   ]
  },
  {
   "cell_type": "code",
   "execution_count": 10,
   "metadata": {},
   "outputs": [
    {
     "ename": "KeyboardInterrupt",
     "evalue": "",
     "output_type": "error",
     "traceback": [
      "\u001b[1;31m---------------------------------------------------------------------------\u001b[0m",
      "\u001b[1;31mKeyboardInterrupt\u001b[0m                         Traceback (most recent call last)",
      "Cell \u001b[1;32mIn[10], line 3\u001b[0m\n\u001b[0;32m      1\u001b[0m \u001b[38;5;66;03m# Запускаем и дожидаемся окончания 2 ступени\u001b[39;00m\n\u001b[0;32m      2\u001b[0m vessel\u001b[38;5;241m.\u001b[39mcontrol\u001b[38;5;241m.\u001b[39mactivate_next_stage()\n\u001b[1;32m----> 3\u001b[0m \u001b[43mwait_till_solid_fuel_end_stage\u001b[49m\u001b[43m(\u001b[49m\u001b[38;5;241;43m2\u001b[39;49m\u001b[43m)\u001b[49m\n",
      "Cell \u001b[1;32mIn[8], line 6\u001b[0m, in \u001b[0;36mwait_till_solid_fuel_end_stage\u001b[1;34m(stage)\u001b[0m\n\u001b[0;32m      3\u001b[0m stage_0_resources \u001b[38;5;241m=\u001b[39m vessel\u001b[38;5;241m.\u001b[39mresources_in_decouple_stage(stage\u001b[38;5;241m=\u001b[39mstage, cumulative\u001b[38;5;241m=\u001b[39m\u001b[38;5;28;01mFalse\u001b[39;00m)\n\u001b[0;32m      4\u001b[0m srb_fuel \u001b[38;5;241m=\u001b[39m conn\u001b[38;5;241m.\u001b[39madd_stream(stage_0_resources\u001b[38;5;241m.\u001b[39mamount, \u001b[38;5;124m'\u001b[39m\u001b[38;5;124mSolidFuel\u001b[39m\u001b[38;5;124m'\u001b[39m)\n\u001b[1;32m----> 6\u001b[0m \u001b[38;5;28;01mwhile\u001b[39;00m \u001b[43msrb_fuel\u001b[49m\u001b[43m(\u001b[49m\u001b[43m)\u001b[49m \u001b[38;5;241m>\u001b[39m \u001b[38;5;241m0.1\u001b[39m:\n\u001b[0;32m      7\u001b[0m     \u001b[38;5;28;01mcontinue\u001b[39;00m\n",
      "\u001b[1;31mKeyboardInterrupt\u001b[0m: "
     ]
    }
   ],
   "source": [
    "# Запускаем и дожидаемся окончания 2 ступени\n",
    "vessel.control.activate_next_stage()\n",
    "wait_till_solid_fuel_end_stage(2)"
   ]
  },
  {
   "cell_type": "code",
   "execution_count": null,
   "metadata": {},
   "outputs": [],
   "source": [
    "# Поворачиваемся на 45 градусов\n",
    "\"\"\"\n",
    "auto_pilot.engage()\n",
    "\n",
    "auto_pilot.target_pitch_and_heading(45, 90)\n",
    "auto_pilot.wait()\n",
    "\n",
    "time.sleep(10)\n",
    "auto_pilot.disengage()\n",
    "\n",
    "vessel.control.sas = True\n",
    "vessel.control.sas_mode = vessel.control.sas_mode.stability_assist\n",
    "\"\"\"\n",
    "print('Поворачивай')"
   ]
  },
  {
   "cell_type": "code",
   "execution_count": null,
   "metadata": {},
   "outputs": [],
   "source": [
    "# Запускаем и дожидаемся окончания 3 ступени\n",
    "vessel.control.activate_next_stage()\n",
    "wait_till_solid_fuel_end_stage(1)"
   ]
  },
  {
   "cell_type": "code",
   "execution_count": null,
   "metadata": {},
   "outputs": [],
   "source": [
    "# Отсоединяем ступень\n",
    "vessel.control.activate_next_stage()"
   ]
  },
  {
   "cell_type": "markdown",
   "metadata": {},
   "source": [
    "4 СТУПЕНЬ"
   ]
  },
  {
   "cell_type": "code",
   "execution_count": null,
   "metadata": {},
   "outputs": [],
   "source": [
    "# Ожидаем пока ракета подлетит к апоапсису\n",
    "start_time = time.time()\n",
    "\n",
    "while True:\n",
    "    print(f'check {int(time.time() - start_time)}')\n",
    "    if abs(apoapsis() - altitude()) < 3_000:\n",
    "        break"
   ]
  },
  {
   "cell_type": "code",
   "execution_count": null,
   "metadata": {},
   "outputs": [],
   "source": [
    "# Переводим ракету в горизонтальное положение\n",
    "\n",
    "auto_pilot.engage()\n",
    "auto_pilot.target_pitch_and_heading(0, 90)\n",
    "time.sleep(10)\n",
    "auto_pilot.disengage()\n",
    "\n",
    "vessel.control.sas = True\n",
    "vessel.control.sas_mode = vessel.control.sas_mode.stability_assist"
   ]
  },
  {
   "cell_type": "code",
   "execution_count": null,
   "metadata": {},
   "outputs": [],
   "source": [
    "# Запускаем и дожидаемся окончания 4 ступени\n",
    "vessel.control.activate_next_stage()\n",
    "wait_till_solid_fuel_end_stage(-1)"
   ]
  },
  {
   "cell_type": "code",
   "execution_count": null,
   "metadata": {},
   "outputs": [],
   "source": [
    "print('Запуск завершён')"
   ]
  }
 ],
 "metadata": {
  "kernelspec": {
   "display_name": "venv",
   "language": "python",
   "name": "python3"
  },
  "language_info": {
   "codemirror_mode": {
    "name": "ipython",
    "version": 3
   },
   "file_extension": ".py",
   "mimetype": "text/x-python",
   "name": "python",
   "nbconvert_exporter": "python",
   "pygments_lexer": "ipython3",
   "version": "3.9.5"
  }
 },
 "nbformat": 4,
 "nbformat_minor": 2
}
